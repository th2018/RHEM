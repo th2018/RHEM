{
 "cells": [
  {
   "cell_type": "code",
   "execution_count": 1,
   "id": "5f80bc38",
   "metadata": {},
   "outputs": [],
   "source": [
    "import pandas as pd\n",
    "import sympy as sp\n",
    "import math"
   ]
  },
  {
   "cell_type": "markdown",
   "id": "b04e8bc0",
   "metadata": {},
   "source": [
    "time series data"
   ]
  },
  {
   "cell_type": "code",
   "execution_count": 2,
   "id": "fb938671",
   "metadata": {},
   "outputs": [
    {
     "data": {
      "text/html": [
       "<div>\n",
       "<style scoped>\n",
       "    .dataframe tbody tr th:only-of-type {\n",
       "        vertical-align: middle;\n",
       "    }\n",
       "\n",
       "    .dataframe tbody tr th {\n",
       "        vertical-align: top;\n",
       "    }\n",
       "\n",
       "    .dataframe thead th {\n",
       "        text-align: right;\n",
       "    }\n",
       "</style>\n",
       "<table border=\"1\" class=\"dataframe\">\n",
       "  <thead>\n",
       "    <tr style=\"text-align: right;\">\n",
       "      <th></th>\n",
       "      <th>x</th>\n",
       "      <th>t</th>\n",
       "      <th>r</th>\n",
       "      <th>f</th>\n",
       "    </tr>\n",
       "  </thead>\n",
       "  <tbody>\n",
       "    <tr>\n",
       "      <th>0</th>\n",
       "      <td>0</td>\n",
       "      <td>0</td>\n",
       "      <td>0</td>\n",
       "      <td>0.0</td>\n",
       "    </tr>\n",
       "    <tr>\n",
       "      <th>1</th>\n",
       "      <td>0</td>\n",
       "      <td>1</td>\n",
       "      <td>1</td>\n",
       "      <td>0.5</td>\n",
       "    </tr>\n",
       "    <tr>\n",
       "      <th>2</th>\n",
       "      <td>0</td>\n",
       "      <td>2</td>\n",
       "      <td>0</td>\n",
       "      <td>0.0</td>\n",
       "    </tr>\n",
       "    <tr>\n",
       "      <th>3</th>\n",
       "      <td>0</td>\n",
       "      <td>3</td>\n",
       "      <td>0</td>\n",
       "      <td>0.0</td>\n",
       "    </tr>\n",
       "    <tr>\n",
       "      <th>4</th>\n",
       "      <td>0</td>\n",
       "      <td>4</td>\n",
       "      <td>0</td>\n",
       "      <td>0.0</td>\n",
       "    </tr>\n",
       "    <tr>\n",
       "      <th>5</th>\n",
       "      <td>0</td>\n",
       "      <td>5</td>\n",
       "      <td>0</td>\n",
       "      <td>0.0</td>\n",
       "    </tr>\n",
       "  </tbody>\n",
       "</table>\n",
       "</div>"
      ],
      "text/plain": [
       "   x  t  r    f\n",
       "0  0  0  0  0.0\n",
       "1  0  1  1  0.5\n",
       "2  0  2  0  0.0\n",
       "3  0  3  0  0.0\n",
       "4  0  4  0  0.0\n",
       "5  0  5  0  0.0"
      ]
     },
     "execution_count": 2,
     "metadata": {},
     "output_type": "execute_result"
    }
   ],
   "source": [
    "\n",
    "d = {'x': [0,0,0,0,0,0]\n",
    "   , 't': [0,1,2,3,4,5]\n",
    "   , 'r': [0,1,0,0,0,0]\n",
    "   , 'f': [0,0.5,0,0,0,0]\n",
    "    }\n",
    "\n",
    "df = pd.DataFrame( d)\n",
    "df"
   ]
  },
  {
   "cell_type": "markdown",
   "id": "8e8d55aa",
   "metadata": {},
   "source": [
    "equation (2)\n",
    "\n",
    "r(x, t)=r-f\n",
    "\n",
    "r(x, t) is the rainfall excess (m s-1)\n",
    "\n",
    "r is the rainfall rate (m s-1)\n",
    "\n",
    "f is the infiltration rate (m s-1)\n"
   ]
  },
  {
   "cell_type": "code",
   "execution_count": 3,
   "id": "44f78097",
   "metadata": {},
   "outputs": [
    {
     "data": {
      "text/plain": [
       "0    0.0\n",
       "1    0.5\n",
       "2    0.0\n",
       "3    0.0\n",
       "4    0.0\n",
       "5    0.0\n",
       "dtype: float64"
      ]
     },
     "execution_count": 3,
     "metadata": {},
     "output_type": "execute_result"
    }
   ],
   "source": [
    "r_x_t = df[\"r\"]- df[\"f\"]\n",
    "r_x_t"
   ]
  },
  {
   "cell_type": "markdown",
   "id": "91fa0fec",
   "metadata": {},
   "source": [
    "equation (1)\n",
    "\n",
    "dh/dt +dq/dx = r(x, t)\n",
    "\n",
    "h is the flow depth at time t and the position x\n",
    "\n",
    "x is the space coordinate along the directionof flow\n",
    "\n",
    "q is the volumetric water flux per unit plane width (m2 s-1)"
   ]
  },
  {
   "cell_type": "code",
   "execution_count": 4,
   "id": "3367aefc",
   "metadata": {},
   "outputs": [
    {
     "name": "stdout",
     "output_type": "stream",
     "text": [
      "0    0.0\n",
      "1    0.5\n",
      "2    0.0\n",
      "3    0.0\n",
      "4    0.0\n",
      "5    0.0\n",
      "dtype: float64\n"
     ]
    }
   ],
   "source": [
    "#dh/dt +dq/dx =r_x_t\n",
    "# x=0\n",
    "dh_dt =r_x_t\n",
    "\n",
    "print(dh_dt)\n",
    "\n",
    "#integral_t = sp.integrate(df_dx, x)\n",
    "\n",
    "#print(\"Integral with respect to x:\", integral_x)\n"
   ]
  },
  {
   "cell_type": "markdown",
   "id": "079d1794",
   "metadata": {},
   "source": [
    "equation (18)\n",
    "\n",
    "log(ft)=−1.09+1.425∗litter+0.442∗rock+1.746∗(basal+cryptogams)+2.068∗S"
   ]
  },
  {
   "cell_type": "code",
   "execution_count": 5,
   "id": "cab03894",
   "metadata": {},
   "outputs": [
    {
     "data": {
      "text/plain": [
       "11.05629556371876"
      ]
     },
     "execution_count": 5,
     "metadata": {},
     "output_type": "execute_result"
    }
   ],
   "source": [
    "litter=1 #the fraction of area covered by litter to total area\n",
    "rock=0\n",
    "basal=0\n",
    "cryptogams=0\n",
    "S=1\n",
    "\n",
    "#math.log(ft)== -1.09+1.425*litter+0.442*rock+1.746*(basal+cryptogams)+2.068*S\n",
    "\n",
    "#math.log(ft)\n",
    "\n",
    "ft = math.exp(-1.09+1.425*litter+0.442*rock+1.746*(basal+cryptogams)+2.068*S)\n",
    "ft"
   ]
  },
  {
   "cell_type": "markdown",
   "id": "baf3759c",
   "metadata": {},
   "source": [
    "equation (3)\n",
    "\n",
    "RHEM uses the kinematic wave approach to route surface flow: q~f(h,S,ft), where q is the volumetric water flux per unit plane width (m^2/s), h is the flow depth, S is the slope gradient (m/m), and ft is the total Darcy-Weisbach friction factor. \n",
    "\n",
    "the relationship between q and h\n",
    "\n",
    "gravity acceleration (m s-1)"
   ]
  },
  {
   "cell_type": "code",
   "execution_count": 6,
   "id": "19413786",
   "metadata": {},
   "outputs": [
    {
     "data": {
      "text/plain": [
       "0    0.000000\n",
       "1    0.941954\n",
       "2    0.000000\n",
       "3    0.000000\n",
       "4    0.000000\n",
       "5    0.000000\n",
       "dtype: float64"
      ]
     },
     "execution_count": 6,
     "metadata": {},
     "output_type": "execute_result"
    }
   ],
   "source": [
    "g=9.81\n",
    "h=dh_dt\n",
    "q = (8 * g * S /ft)**(0.5)*h**(3/2)\n",
    "q"
   ]
  },
  {
   "cell_type": "markdown",
   "id": "b9d5d545-a395-45da-b1aa-9d8bfa3907a9",
   "metadata": {},
   "source": [
    "The infiltration rate is computed in KINEROS2 using equation (6)\n",
    "\n",
    "Here I is the cumulative depth of the water infiltrated into the soil (m), Ke is the surface effective saturated hydraulic conductivity (m s21), Cd (m) accounts for the effect of capillary forces on moisture absorption during infiltration, and a is a scaling parameter. "
   ]
  },
  {
   "cell_type": "code",
   "execution_count": 7,
   "id": "2278cd38-1358-44a7-b4ed-2b2e5c65e2f0",
   "metadata": {},
   "outputs": [
    {
     "ename": "NameError",
     "evalue": "name 'Ke' is not defined",
     "output_type": "error",
     "traceback": [
      "\u001b[0;31m---------------------------------------------------------------------------\u001b[0m",
      "\u001b[0;31mNameError\u001b[0m                                 Traceback (most recent call last)",
      "Cell \u001b[0;32mIn[7], line 1\u001b[0m\n\u001b[0;32m----> 1\u001b[0m f \u001b[38;5;241m=\u001b[39m Ke \u001b[38;5;241m*\u001b[39m (\u001b[38;5;241m1\u001b[39m \u001b[38;5;241m+\u001b[39m alpha \u001b[38;5;241m/\u001b[39m (exp(alpha\u001b[38;5;241m*\u001b[39m I\u001b[38;5;241m/\u001b[39m (Cd \u001b[38;5;241m*\u001b[39m delta_theta ) ) \u001b[38;5;241m-\u001b[39m\u001b[38;5;241m1\u001b[39m ) )\n",
      "\u001b[0;31mNameError\u001b[0m: name 'Ke' is not defined"
     ]
    }
   ],
   "source": [
    "f = Ke * (1 + alpha / (exp(alpha* I/ (Cd * delta_theta ) ) -1 ) )"
   ]
  },
  {
   "cell_type": "markdown",
   "id": "572ee654-2e89-4a37-8892-e658798c72c4",
   "metadata": {},
   "source": [
    "When alpha = 0, equation (6) is reduced to the simple Green and Ampt infiltration model,"
   ]
  },
  {
   "cell_type": "markdown",
   "id": "ca036116-b5c5-4160-8c45-c9caeb8d1391",
   "metadata": {},
   "source": [
    "when alpha =  1, the equation simplifies to the Parlange model."
   ]
  },
  {
   "cell_type": "code",
   "execution_count": null,
   "id": "c8de82a2-786d-46ee-b98d-d26767a98051",
   "metadata": {},
   "outputs": [],
   "source": []
  }
 ],
 "metadata": {
  "kernelspec": {
   "display_name": "Python 3 (ipykernel)",
   "language": "python",
   "name": "python3"
  },
  "language_info": {
   "codemirror_mode": {
    "name": "ipython",
    "version": 3
   },
   "file_extension": ".py",
   "mimetype": "text/x-python",
   "name": "python",
   "nbconvert_exporter": "python",
   "pygments_lexer": "ipython3",
   "version": "3.12.4"
  }
 },
 "nbformat": 4,
 "nbformat_minor": 5
}
