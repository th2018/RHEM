{
 "cells": [
  {
   "cell_type": "markdown",
   "id": "8e8d55aa",
   "metadata": {},
   "source": [
    "equation (2)\n",
    "\n",
    "r(x, t) is the rainfall excess (m s-1)\n",
    "\n",
    "r is the rainfall rate (m s-1)\n",
    "\n",
    "f is the infiltration rate (m s-1)\n"
   ]
  },
  {
   "cell_type": "code",
   "execution_count": 1,
   "id": "44f78097",
   "metadata": {},
   "outputs": [
    {
     "ename": "SyntaxError",
     "evalue": "cannot assign to function call here. Maybe you meant '==' instead of '='? (3485155397.py, line 1)",
     "output_type": "error",
     "traceback": [
      "\u001b[0;36m  Cell \u001b[0;32mIn[1], line 1\u001b[0;36m\u001b[0m\n\u001b[0;31m    r(x, t)=r-f\u001b[0m\n\u001b[0m    ^\u001b[0m\n\u001b[0;31mSyntaxError\u001b[0m\u001b[0;31m:\u001b[0m cannot assign to function call here. Maybe you meant '==' instead of '='?\n"
     ]
    }
   ],
   "source": [
    "r(x, t)=r-f"
   ]
  },
  {
   "cell_type": "markdown",
   "id": "91fa0fec",
   "metadata": {},
   "source": [
    "equation (1)\n",
    "\n",
    "h is the flow depth at time t and the position x\n",
    "\n",
    "x is the space coordinate along the directionof flow\n",
    "\n",
    "q is the volumetric water flux per unit plane width (m2 s-1)"
   ]
  },
  {
   "cell_type": "code",
   "execution_count": null,
   "id": "3367aefc",
   "metadata": {},
   "outputs": [],
   "source": []
  }
 ],
 "metadata": {
  "kernelspec": {
   "display_name": "Python 3 (ipykernel)",
   "language": "python",
   "name": "python3"
  },
  "language_info": {
   "codemirror_mode": {
    "name": "ipython",
    "version": 3
   },
   "file_extension": ".py",
   "mimetype": "text/x-python",
   "name": "python",
   "nbconvert_exporter": "python",
   "pygments_lexer": "ipython3",
   "version": "3.11.4"
  }
 },
 "nbformat": 4,
 "nbformat_minor": 5
}
