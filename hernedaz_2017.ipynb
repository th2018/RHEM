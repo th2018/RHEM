{
 "cells": [
  {
   "cell_type": "markdown",
   "id": "c051fd1b",
   "metadata": {},
   "source": [
    "time series data"
   ]
  },
  {
   "cell_type": "code",
   "execution_count": 6,
   "id": "6fe78623",
   "metadata": {},
   "outputs": [
    {
     "data": {
      "text/html": [
       "<div>\n",
       "<style scoped>\n",
       "    .dataframe tbody tr th:only-of-type {\n",
       "        vertical-align: middle;\n",
       "    }\n",
       "\n",
       "    .dataframe tbody tr th {\n",
       "        vertical-align: top;\n",
       "    }\n",
       "\n",
       "    .dataframe thead th {\n",
       "        text-align: right;\n",
       "    }\n",
       "</style>\n",
       "<table border=\"1\" class=\"dataframe\">\n",
       "  <thead>\n",
       "    <tr style=\"text-align: right;\">\n",
       "      <th></th>\n",
       "      <th>x</th>\n",
       "      <th>t</th>\n",
       "      <th>r</th>\n",
       "      <th>f</th>\n",
       "    </tr>\n",
       "  </thead>\n",
       "  <tbody>\n",
       "    <tr>\n",
       "      <th>0</th>\n",
       "      <td>0</td>\n",
       "      <td>0</td>\n",
       "      <td>0</td>\n",
       "      <td>0.0</td>\n",
       "    </tr>\n",
       "    <tr>\n",
       "      <th>1</th>\n",
       "      <td>0</td>\n",
       "      <td>1</td>\n",
       "      <td>1</td>\n",
       "      <td>0.0</td>\n",
       "    </tr>\n",
       "    <tr>\n",
       "      <th>2</th>\n",
       "      <td>0</td>\n",
       "      <td>2</td>\n",
       "      <td>0</td>\n",
       "      <td>0.5</td>\n",
       "    </tr>\n",
       "    <tr>\n",
       "      <th>3</th>\n",
       "      <td>0</td>\n",
       "      <td>3</td>\n",
       "      <td>0</td>\n",
       "      <td>0.0</td>\n",
       "    </tr>\n",
       "  </tbody>\n",
       "</table>\n",
       "</div>"
      ],
      "text/plain": [
       "   x  t  r    f\n",
       "0  0  0  0  0.0\n",
       "1  0  1  1  0.0\n",
       "2  0  2  0  0.5\n",
       "3  0  3  0  0.0"
      ]
     },
     "execution_count": 6,
     "metadata": {},
     "output_type": "execute_result"
    }
   ],
   "source": [
    "import pandas as pd\n",
    "\n",
    "d = {'x': [0,0,0,0]\n",
    "   , 't': [0,1,2,3]\n",
    "   , 'r': [0,1,0,0]\n",
    "   , 'f': [0,0,0.5,0]\n",
    "    }\n",
    "\n",
    "df = pd.DataFrame( d)\n",
    "df"
   ]
  },
  {
   "cell_type": "markdown",
   "id": "8e8d55aa",
   "metadata": {},
   "source": [
    "equation (2)\n",
    "\n",
    "r(x, t)=r-f\n",
    "\n",
    "r(x, t) is the rainfall excess (m s-1)\n",
    "\n",
    "r is the rainfall rate (m s-1)\n",
    "\n",
    "f is the infiltration rate (m s-1)\n"
   ]
  },
  {
   "cell_type": "code",
   "execution_count": 8,
   "id": "44f78097",
   "metadata": {},
   "outputs": [
    {
     "data": {
      "text/plain": [
       "0    0.0\n",
       "1    1.0\n",
       "2   -0.5\n",
       "3    0.0\n",
       "dtype: float64"
      ]
     },
     "execution_count": 8,
     "metadata": {},
     "output_type": "execute_result"
    }
   ],
   "source": [
    "r_x_t = df[\"r\"]- df[\"f\"]\n",
    "r_x_t"
   ]
  },
  {
   "cell_type": "markdown",
   "id": "91fa0fec",
   "metadata": {},
   "source": [
    "equation (1)\n",
    "\n",
    "dh/dt +dq/dx = r(x, t)\n",
    "\n",
    "h is the flow depth at time t and the position x\n",
    "\n",
    "x is the space coordinate along the directionof flow\n",
    "\n",
    "q is the volumetric water flux per unit plane width (m2 s-1)"
   ]
  },
  {
   "cell_type": "code",
   "execution_count": 9,
   "id": "3367aefc",
   "metadata": {},
   "outputs": [
    {
     "ename": "SyntaxError",
     "evalue": "cannot assign to expression here. Maybe you meant '==' instead of '='? (3620274614.py, line 1)",
     "output_type": "error",
     "traceback": [
      "\u001b[0;36m  Cell \u001b[0;32mIn[9], line 1\u001b[0;36m\u001b[0m\n\u001b[0;31m    dh/dt +dq/dx =r_x_t\u001b[0m\n\u001b[0m    ^\u001b[0m\n\u001b[0;31mSyntaxError\u001b[0m\u001b[0;31m:\u001b[0m cannot assign to expression here. Maybe you meant '==' instead of '='?\n"
     ]
    }
   ],
   "source": [
    "dh/dt +dq/dx =r_x_t"
   ]
  },
  {
   "cell_type": "code",
   "execution_count": null,
   "id": "0fd7c4a8",
   "metadata": {},
   "outputs": [],
   "source": []
  }
 ],
 "metadata": {
  "kernelspec": {
   "display_name": "Python 3 (ipykernel)",
   "language": "python",
   "name": "python3"
  },
  "language_info": {
   "codemirror_mode": {
    "name": "ipython",
    "version": 3
   },
   "file_extension": ".py",
   "mimetype": "text/x-python",
   "name": "python",
   "nbconvert_exporter": "python",
   "pygments_lexer": "ipython3",
   "version": "3.11.0"
  }
 },
 "nbformat": 4,
 "nbformat_minor": 5
}
