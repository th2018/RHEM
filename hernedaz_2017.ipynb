{
 "cells": [
  {
   "cell_type": "code",
   "execution_count": 9,
   "id": "9cd6c210",
   "metadata": {},
   "outputs": [],
   "source": [
    "import pandas as pd\n",
    "import sympy as sp\n",
    "import math"
   ]
  },
  {
   "cell_type": "markdown",
   "id": "17354e7d",
   "metadata": {},
   "source": [
    "time series data"
   ]
  },
  {
   "cell_type": "code",
   "execution_count": 2,
   "id": "3921f693",
   "metadata": {},
   "outputs": [
    {
     "data": {
      "text/html": [
       "<div>\n",
       "<style scoped>\n",
       "    .dataframe tbody tr th:only-of-type {\n",
       "        vertical-align: middle;\n",
       "    }\n",
       "\n",
       "    .dataframe tbody tr th {\n",
       "        vertical-align: top;\n",
       "    }\n",
       "\n",
       "    .dataframe thead th {\n",
       "        text-align: right;\n",
       "    }\n",
       "</style>\n",
       "<table border=\"1\" class=\"dataframe\">\n",
       "  <thead>\n",
       "    <tr style=\"text-align: right;\">\n",
       "      <th></th>\n",
       "      <th>x</th>\n",
       "      <th>t</th>\n",
       "      <th>r</th>\n",
       "      <th>f</th>\n",
       "    </tr>\n",
       "  </thead>\n",
       "  <tbody>\n",
       "    <tr>\n",
       "      <th>0</th>\n",
       "      <td>0</td>\n",
       "      <td>0</td>\n",
       "      <td>0</td>\n",
       "      <td>0.0</td>\n",
       "    </tr>\n",
       "    <tr>\n",
       "      <th>1</th>\n",
       "      <td>0</td>\n",
       "      <td>1</td>\n",
       "      <td>1</td>\n",
       "      <td>0.5</td>\n",
       "    </tr>\n",
       "    <tr>\n",
       "      <th>2</th>\n",
       "      <td>0</td>\n",
       "      <td>2</td>\n",
       "      <td>0</td>\n",
       "      <td>0.0</td>\n",
       "    </tr>\n",
       "    <tr>\n",
       "      <th>3</th>\n",
       "      <td>0</td>\n",
       "      <td>3</td>\n",
       "      <td>0</td>\n",
       "      <td>0.0</td>\n",
       "    </tr>\n",
       "    <tr>\n",
       "      <th>4</th>\n",
       "      <td>0</td>\n",
       "      <td>4</td>\n",
       "      <td>0</td>\n",
       "      <td>0.0</td>\n",
       "    </tr>\n",
       "    <tr>\n",
       "      <th>5</th>\n",
       "      <td>0</td>\n",
       "      <td>5</td>\n",
       "      <td>0</td>\n",
       "      <td>0.0</td>\n",
       "    </tr>\n",
       "  </tbody>\n",
       "</table>\n",
       "</div>"
      ],
      "text/plain": [
       "   x  t  r    f\n",
       "0  0  0  0  0.0\n",
       "1  0  1  1  0.5\n",
       "2  0  2  0  0.0\n",
       "3  0  3  0  0.0\n",
       "4  0  4  0  0.0\n",
       "5  0  5  0  0.0"
      ]
     },
     "execution_count": 2,
     "metadata": {},
     "output_type": "execute_result"
    }
   ],
   "source": [
    "\n",
    "\n",
    "\n",
    "d = {'x': [0,0,0,0,0,0]\n",
    "   , 't': [0,1,2,3,4,5]\n",
    "   , 'r': [0,1,0,0,0,0]\n",
    "   , 'f': [0,0.5,0,0,0,0]\n",
    "    }\n",
    "\n",
    "df = pd.DataFrame( d)\n",
    "df"
   ]
  },
  {
   "cell_type": "markdown",
   "id": "8e8d55aa",
   "metadata": {},
   "source": [
    "equation (2)\n",
    "\n",
    "r(x, t)=r-f\n",
    "\n",
    "r(x, t) is the rainfall excess (m s-1)\n",
    "\n",
    "r is the rainfall rate (m s-1)\n",
    "\n",
    "f is the infiltration rate (m s-1)\n"
   ]
  },
  {
   "cell_type": "code",
   "execution_count": 3,
   "id": "44f78097",
   "metadata": {},
   "outputs": [
    {
     "data": {
      "text/plain": [
       "0    0.0\n",
       "1    0.5\n",
       "2    0.0\n",
       "3    0.0\n",
       "4    0.0\n",
       "5    0.0\n",
       "dtype: float64"
      ]
     },
     "execution_count": 3,
     "metadata": {},
     "output_type": "execute_result"
    }
   ],
   "source": [
    "r_x_t = df[\"r\"]- df[\"f\"]\n",
    "r_x_t"
   ]
  },
  {
   "cell_type": "markdown",
   "id": "91fa0fec",
   "metadata": {},
   "source": [
    "equation (1)\n",
    "\n",
    "dh/dt +dq/dx = r(x, t)\n",
    "\n",
    "h is the flow depth at time t and the position x\n",
    "\n",
    "x is the space coordinate along the directionof flow\n",
    "\n",
    "q is the volumetric water flux per unit plane width (m2 s-1)"
   ]
  },
  {
   "cell_type": "code",
   "execution_count": 5,
   "id": "3367aefc",
   "metadata": {},
   "outputs": [
    {
     "name": "stdout",
     "output_type": "stream",
     "text": [
      "0    0.0\n",
      "1    0.5\n",
      "2    0.0\n",
      "3    0.0\n",
      "4    0.0\n",
      "5    0.0\n",
      "dtype: float64\n"
     ]
    }
   ],
   "source": [
    "#dh/dt +dq/dx =r_x_t\n",
    "# x=0\n",
    "dh_dt =r_x_t\n",
    "\n",
    "print(dh_dt)\n",
    "\n",
    "#integral_t = sp.integrate(df_dx, x)\n",
    "\n",
    "#print(\"Integral with respect to x:\", integral_x)\n"
   ]
  },
  {
   "cell_type": "markdown",
   "id": "7c324a65",
   "metadata": {},
   "source": [
    "equation (18)\n",
    "\n",
    "log(ft)=−1.09+1.425∗litter+0.442∗rock+1.746∗(basal+cryptogams)+2.068∗S"
   ]
  },
  {
   "cell_type": "code",
   "execution_count": 10,
   "id": "d97c82a6",
   "metadata": {},
   "outputs": [
    {
     "ename": "NameError",
     "evalue": "name 'ft' is not defined",
     "output_type": "error",
     "traceback": [
      "\u001b[0;31m---------------------------------------------------------------------------\u001b[0m",
      "\u001b[0;31mNameError\u001b[0m                                 Traceback (most recent call last)",
      "Cell \u001b[0;32mIn[10], line 7\u001b[0m\n\u001b[1;32m      4\u001b[0m cryptogams\u001b[38;5;241m=\u001b[39m\u001b[38;5;241m0\u001b[39m\n\u001b[1;32m      5\u001b[0m S\u001b[38;5;241m=\u001b[39m\u001b[38;5;241m1\u001b[39m\n\u001b[0;32m----> 7\u001b[0m math\u001b[38;5;241m.\u001b[39mlog(ft)\u001b[38;5;241m==\u001b[39m \u001b[38;5;241m-\u001b[39m\u001b[38;5;241m1.09\u001b[39m\u001b[38;5;241m+\u001b[39m\u001b[38;5;241m1.425\u001b[39m\u001b[38;5;241m*\u001b[39mlitter\u001b[38;5;241m+\u001b[39m\u001b[38;5;241m0.442\u001b[39m\u001b[38;5;241m*\u001b[39mrock\u001b[38;5;241m+\u001b[39m\u001b[38;5;241m1.746\u001b[39m\u001b[38;5;241m*\u001b[39m(basal\u001b[38;5;241m+\u001b[39mcryptogams)\u001b[38;5;241m+\u001b[39m\u001b[38;5;241m2.068\u001b[39m\u001b[38;5;241m*\u001b[39mS\n\u001b[1;32m      9\u001b[0m math\u001b[38;5;241m.\u001b[39mlog(ft)\n",
      "\u001b[0;31mNameError\u001b[0m: name 'ft' is not defined"
     ]
    }
   ],
   "source": [
    "litter=0\n",
    "rock=0\n",
    "basal=0\n",
    "cryptogams=0\n",
    "S=1\n",
    "\n",
    "math.log(ft)== -1.09+1.425*litter+0.442*rock+1.746*(basal+cryptogams)+2.068*S\n",
    "\n",
    "math.log(ft)"
   ]
  },
  {
   "cell_type": "code",
   "execution_count": null,
   "id": "b080345e",
   "metadata": {},
   "outputs": [],
   "source": []
  }
 ],
 "metadata": {
  "kernelspec": {
   "display_name": "Python 3 (ipykernel)",
   "language": "python",
   "name": "python3"
  },
  "language_info": {
   "codemirror_mode": {
    "name": "ipython",
    "version": 3
   },
   "file_extension": ".py",
   "mimetype": "text/x-python",
   "name": "python",
   "nbconvert_exporter": "python",
   "pygments_lexer": "ipython3",
   "version": "3.11.0"
  }
 },
 "nbformat": 4,
 "nbformat_minor": 5
}
