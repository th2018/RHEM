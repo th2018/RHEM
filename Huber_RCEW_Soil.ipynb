{
 "cells": [
  {
   "cell_type": "code",
   "execution_count": 6,
   "id": "b015596b-1d06-400a-b0c1-7f413ed1b760",
   "metadata": {},
   "outputs": [
    {
     "name": "stdout",
     "output_type": "stream",
     "text": [
      "  Pit_ID   Parent_ID Site_Name Patch_Type Depth_Interval Model_Rep  \\\n",
      "0   098f  RCEW000001     Nancy         IP          0-7cm     HyP_1   \n",
      "1   098f  RCEW000001     Nancy          P          0-7cm     HyP_1   \n",
      "2   098f  RCEW000002     Nancy          ?         7-20cm     HyP_1   \n",
      "3   098f  RCEW000002     Nancy          ?         7-20cm     HyP_2   \n",
      "4   098f  RCEW000003     Nancy         IP        20-44cm     HyP_1   \n",
      "\n",
      "     Model_ID Core_ID  Start  Stop  ...    BD 1/3_bar  15_bar  PTF_Theta_r  \\\n",
      "0  RCEW0000A1    4249      0     5  ...  1.26  0.3114  0.1340          --    \n",
      "1  RCEW0000B1    4250      0     5  ...  0.95  0.2834  0.1196          --    \n",
      "2  RCEW0000C1    3876     15    20  ...  1.01  0.4341  0.1514          --    \n",
      "3  RCEW0000D1    3884     15    20  ...  1.05  0.4422  0.1382          --    \n",
      "4  RCEW0000E1    4251     30    35  ...  1.12  0.3804  0.2058          --    \n",
      "\n",
      "   PTF_Theta_s  PTF_alpha PTF_n PTF_m [ --] PTF_K_s  PTF_L_or_τ  \n",
      "0          --         --    --          --      --          --   \n",
      "1          --         --    --          --      --          --   \n",
      "2          --         --    --          --      --          --   \n",
      "3          --         --    --          --      --          --   \n",
      "4          --         --    --          --      --          --   \n",
      "\n",
      "[5 rows x 54 columns]\n"
     ]
    }
   ],
   "source": [
    "import pandas as pd\n",
    "\n",
    "# Define the file name and sheet name\n",
    "file_path = '/Users/taohuang/Downloads/reynoldscreek_10_huber_05012018/Huber_RCEW_Soil-Hydraulic-Properties_DOI_20180416.xlsx'\n",
    "\n",
    "sheet_name = 'Ret_Fcn Parameters-uncert'\n",
    "\n",
    "# Read the specific sheet into a DataFrame\n",
    "df = pd.read_excel( file_path, sheet_name=sheet_name, skiprows=2)\n",
    "\n",
    "# Display the first few rows of the DataFrame\n",
    "print(df.head())\n"
   ]
  },
  {
   "cell_type": "code",
   "execution_count": 9,
   "id": "a5582567-9293-43d0-900e-3f2160d8c423",
   "metadata": {},
   "outputs": [
    {
     "name": "stdout",
     "output_type": "stream",
     "text": [
      "   Pit_ID   Parent_ID      Site_Name Patch_Type Depth_Interval Model_Rep  \\\n",
      "42   jdt3  RCEW000018  Johnston Draw         IP         1-15cm     HyP_1   \n",
      "43   jdt3  RCEW000018  Johnston Draw         IP         1-15cm     HyP_2   \n",
      "44   jdt3  RCEW000019  Johnston Draw         IP        15-28cm     HyP_1   \n",
      "45   jdt3  RCEW000020  Johnston Draw         IP        28-55cm     HyP_1   \n",
      "46   jdt3  RCEW000021  Johnston Draw         IP        55-76cm     HyP_1   \n",
      "47   jdt3  RCEW000022  Johnston Draw         IP       76-110cm     HyP_1   \n",
      "48  jdt3b  RCEW000023  Johnston Draw          P          0-6cm     HyP_1   \n",
      "49  jdt3b  RCEW000023  Johnston Draw          P          0-6cm     HyP_2   \n",
      "50  jdt3b  RCEW000023  Johnston Draw          P          0-6cm     HyP_3   \n",
      "51  jdt3b  RCEW000024  Johnston Draw          P         6-20cm    RETC_1   \n",
      "52  jdt3b  RCEW000024  Johnston Draw          P         6-20cm    RETC_2   \n",
      "53  jdt3b  RCEW000025  Johnston Draw          P        20-35cm     HyP_1   \n",
      "54  jdt3b  RCEW000026  Johnston Draw          P        35-55cm     HyP_1   \n",
      "\n",
      "         Model_ID Core_ID  Start  Stop  ...    BD 1/3_bar  15_bar  \\\n",
      "42     RCEW0000Z1    3878      0     5  ...  1.09  0.2312  0.1013   \n",
      "43     RCEW0000A2    3879      0     5  ...  0.94  0.3703  0.1437   \n",
      "44     RCEW0000B2    3880     21    26  ...  1.30  0.2258  0.0977   \n",
      "45     RCEW0000C2    3881     40    45  ...  1.23  0.1829  0.0848   \n",
      "46     RCEW0000D2    3882     60    65  ...  1.45  0.2038  0.0896   \n",
      "47     RCEW0000E2    3883     75    80  ...  1.43  0.1713  0.0745   \n",
      "48     RCEW0000F2    3876      0     5  ...  1.09  0.1216  0.0379   \n",
      "49     RCEW0000G2    3880      0     5  ...  1.28  0.1097  0.0453   \n",
      "50     RCEW0000H2    3881      0     5  ...  1.39  0.1151  0.0436   \n",
      "51  RCEWPTF0000I1     --       6    20  ...  1.31  0.1620  0.0890   \n",
      "52  RCEWPTF0000I2     --       6    20  ...  1.31  0.1620  0.0890   \n",
      "53     RCEW0000I2    3877     32    37  ...  1.49  0.1724  0.0707   \n",
      "54     RCEW0000J2    3878     43    48  ...  1.50  0.2455  0.0779   \n",
      "\n",
      "    PTF_Theta_r  PTF_Theta_s  PTF_alpha   PTF_n PTF_m [ --] PTF_K_s  \\\n",
      "42          --           --         --      --          --      --    \n",
      "43          --           --         --      --          --      --    \n",
      "44          --           --         --      --          --      --    \n",
      "45          --           --         --      --          --      --    \n",
      "46          --           --         --      --          --      --    \n",
      "47          --           --         --      --          --      --    \n",
      "48          --           --         --      --          --      --    \n",
      "49          --           --         --      --          --      --    \n",
      "50          --           --         --      --          --      --    \n",
      "51       0.0337       0.4447     0.0537  1.3776    0.325555  224.39   \n",
      "52       0.0337       0.4447     0.0537  1.3776    0.325555  224.39   \n",
      "53          --           --         --      --          --      --    \n",
      "54          --           --         --      --          --      --    \n",
      "\n",
      "    PTF_L_or_τ  \n",
      "42         --   \n",
      "43         --   \n",
      "44         --   \n",
      "45         --   \n",
      "46         --   \n",
      "47         --   \n",
      "48         --   \n",
      "49         --   \n",
      "50         --   \n",
      "51         0.5  \n",
      "52         0.5  \n",
      "53         --   \n",
      "54         --   \n",
      "\n",
      "[13 rows x 54 columns]\n"
     ]
    }
   ],
   "source": [
    "print( df[df['Site_Name']==\"Johnston Draw\"] )"
   ]
  },
  {
   "cell_type": "markdown",
   "id": "09eedc38-a3a1-42f6-8c18-ed106b0b71b7",
   "metadata": {},
   "source": [
    "P_K_s [cm d^-1]\tModeled saturated hydraulic conductivity [cm d^-1] . All RETC K_s valued initially selected from NRCS soil texture-hydraulic conductivity table (https://www.nrcs.usda.gov/wps/portal/nrcs/detail/soils/survey/office/ssr10/tr/?cid=nrcs144p2_074846)"
   ]
  },
  {
   "cell_type": "code",
   "execution_count": 12,
   "id": "94e581f0-38d8-4f53-8870-83fd4363cc3a",
   "metadata": {},
   "outputs": [
    {
     "name": "stdout",
     "output_type": "stream",
     "text": [
      "42    500.000000\n",
      "43      2.083333\n",
      "44      1.058333\n",
      "45    500.000000\n",
      "46      2.916667\n",
      "47    500.000000\n",
      "48    500.000000\n",
      "49      0.837500\n",
      "50    294.833333\n",
      "51     93.495833\n",
      "52     93.495833\n",
      "53    340.791667\n",
      "54      2.850000\n",
      "Name: P_K_s, dtype: float64\n"
     ]
    }
   ],
   "source": [
    "k_s= df[df['Site_Name']==\"Johnston Draw\"]['P_K_s']   #cm/d\n",
    "print(k_s*10/24)  #mm / h"
   ]
  },
  {
   "cell_type": "markdown",
   "id": "5ec81d47-61c7-4204-ab97-0330a803314a",
   "metadata": {},
   "source": [
    "U_K_s [cm d^-1]\tModeled standard deviation for saturated hydraulic conductivity [cm d^-1] . All RETC K_s valued initially selected from NRCS soil texture-hydraulic conductivity table (https://www.nrcs.usda.gov/wps/portal/nrcs/detail/soils/survey/office/ssr10/tr/?cid=nrcs144p2_074846) See special notes on uncertainty calcuations in separate tab."
   ]
  },
  {
   "cell_type": "code",
   "execution_count": null,
   "id": "805b3c0c-41b6-4665-8b9b-648a8a06af57",
   "metadata": {},
   "outputs": [],
   "source": []
  }
 ],
 "metadata": {
  "kernelspec": {
   "display_name": "Python 3 (ipykernel)",
   "language": "python",
   "name": "python3"
  },
  "language_info": {
   "codemirror_mode": {
    "name": "ipython",
    "version": 3
   },
   "file_extension": ".py",
   "mimetype": "text/x-python",
   "name": "python",
   "nbconvert_exporter": "python",
   "pygments_lexer": "ipython3",
   "version": "3.12.4"
  }
 },
 "nbformat": 4,
 "nbformat_minor": 5
}
