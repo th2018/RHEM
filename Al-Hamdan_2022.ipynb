{
 "cells": [
  {
   "cell_type": "markdown",
   "id": "43e83384-13c6-44e3-bc49-5e130ba659b9",
   "metadata": {},
   "source": [
    "NEW ERODIBILITY PARAMETERIZATION FOR APPLYING WEPP ON RANGELANDS USING ERMIT"
   ]
  },
  {
   "cell_type": "markdown",
   "id": "9208c7da-66f7-421e-ad71-62cbad903fe8",
   "metadata": {},
   "source": [
    "RILL ERODIBILITY ESTIMATION EQUATION\n",
    "log(Kr)= - 3.4481-1.3517*VG-5.1099 *Cl+3.3164*Si"
   ]
  },
  {
   "cell_type": "code",
   "execution_count": 2,
   "id": "7a23ed05-cf30-4e3a-834a-6c88e330a76d",
   "metadata": {},
   "outputs": [
    {
     "name": "stdout",
     "output_type": "stream",
     "text": [
      "Kr: 0.02322281681982222\n"
     ]
    }
   ],
   "source": [
    "import math\n",
    "\n",
    "# Input values\n",
    "VG=0.1\n",
    "Cl=0.1\n",
    "Si=0.1\n",
    "\n",
    "Kr = math.exp(-3.4481 - 1.3517 * VG - 5.1099 * Cl + 3.3164 * Si)\n",
    "print(f\"Kr: {Kr}\")"
   ]
  },
  {
   "cell_type": "code",
   "execution_count": 3,
   "id": "b3617b4c-8b47-41bc-8f9d-2b249ff8e77f",
   "metadata": {},
   "outputs": [
    {
     "name": "stdout",
     "output_type": "stream",
     "text": [
      "Kr: 0.007875646518917109\n"
     ]
    }
   ],
   "source": [
    "# Input values\n",
    "VG=0.9\n",
    "Cl=0.1\n",
    "Si=0.1\n",
    "\n",
    "Kr = math.exp(-3.4481 - 1.3517 * VG - 5.1099 * Cl + 3.3164 * Si)\n",
    "print(f\"Kr: {Kr}\")"
   ]
  },
  {
   "cell_type": "code",
   "execution_count": null,
   "id": "d534ae6b-177e-4644-8cc3-b98085e5cbed",
   "metadata": {},
   "outputs": [],
   "source": []
  }
 ],
 "metadata": {
  "kernelspec": {
   "display_name": "Python 3 (ipykernel)",
   "language": "python",
   "name": "python3"
  },
  "language_info": {
   "codemirror_mode": {
    "name": "ipython",
    "version": 3
   },
   "file_extension": ".py",
   "mimetype": "text/x-python",
   "name": "python",
   "nbconvert_exporter": "python",
   "pygments_lexer": "ipython3",
   "version": "3.12.4"
  }
 },
 "nbformat": 4,
 "nbformat_minor": 5
}
