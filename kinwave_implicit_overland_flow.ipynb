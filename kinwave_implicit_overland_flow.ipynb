{
 "cells": [
  {
   "cell_type": "markdown",
   "id": "a6982536-267d-4e22-b7d3-cc83133f635b",
   "metadata": {},
   "source": [
    "https://github.com/landlab/landlab/blob/master/docs/source/tutorials/overland_flow/kinwave_implicit/kinwave_implicit_overland_flow.ipynb"
   ]
  },
  {
   "cell_type": "code",
   "execution_count": 3,
   "id": "aae9e9ee-c851-4779-ac94-f80a7761dc1e",
   "metadata": {},
   "outputs": [],
   "source": [
    "from landlab import RasterModelGrid\n",
    "from landlab.components.overland_flow import KinwaveImplicitOverlandFlow\n",
    "from landlab.io import esri_ascii"
   ]
  },
  {
   "cell_type": "code",
   "execution_count": 4,
   "id": "62ea1e2c-e403-43d4-8611-4a9f3187086b",
   "metadata": {},
   "outputs": [
    {
     "name": "stdout",
     "output_type": "stream",
     "text": [
      "Calculate shallow water flow over topography.\n",
      "\n",
      "    Landlab component that implements a two-dimensional kinematic wave model.\n",
      "    This is a form of the 2D shallow-water equations in which energy slope is\n",
      "    assumed to equal bed slope. The solution method is locally implicit, and\n",
      "    works as follows. At each time step, we iterate from upstream to downstream\n",
      "    over the topography. Because we are working downstream, we can assume that\n",
      "    we know the total water inflow to a given cell. We solve the following mass\n",
      "    conservation equation at each cell:\n",
      "\n",
      "    .. math::\n",
      "\n",
      "        (H^{t+1} - H^t)/\\Delta t = Q_{in}/A - Q_{out}/A + R\n",
      "\n",
      "    where :math:`H` is water depth, :math:`t` indicates time step\n",
      "    number, :math:`\\Delta t` is time step duration, :math:`Q_{in}` is\n",
      "    total inflow discharge, :math:`Q_{out}` is total outflow\n",
      "    discharge, :math:`A` is cell area, and :math:`R` is local\n",
      "    runoff rate (precipitation minus infiltration; could be\n",
      "    negative if runon infiltration is occurring).\n",
      "\n",
      "    The specific outflow discharge leaving a cell along one of its faces is:\n",
      "\n",
      "    .. math::\n",
      "\n",
      "        q = (1/C_r) H^\\alpha S^{1/2}\n",
      "\n",
      "    where :math:`C_r` is a roughness coefficient (such as\n",
      "    Manning's n), :math:`\\alpha` is an exponent equal to :math:`5/3`\n",
      "    for the Manning equation and :math:`3/2` for the Chezy family,\n",
      "    and :math:`S` is the downhill-positive gradient of the link\n",
      "    that crosses this particular face. Outflow discharge is zero\n",
      "    for links that are flat or \"uphill\" from the given node.\n",
      "    Total discharge out of a cell is then the sum of (specific\n",
      "    discharge x face width) over all outflow faces\n",
      "\n",
      "    .. math::\n",
      "\n",
      "        Q_{out} = \\sum_{i=1}^N (1/C_r) H^\\alpha S_i^{1/2} W_i\n",
      "\n",
      "    where :math:`N` is the number of outflow faces (i.e., faces\n",
      "    where the ground slopes downhill away from the cell's node),\n",
      "    and :math:`W_i` is the width of face :math:`i`.\n",
      "\n",
      "    We use the depth at the cell's node, so this simplifies to:\n",
      "\n",
      "    .. math::\n",
      "\n",
      "        Q_{out} = (1/C_r) H'^\\alpha \\sum_{i=1}^N S_i^{1/2} W_i\n",
      "\n",
      "    We define :math:`H` in the above as a weighted sum of\n",
      "    the \"old\" (time step :math:`t`) and \"new\" (time step :math:`t+1`)\n",
      "    depth values:\n",
      "\n",
      "    .. math::\n",
      "\n",
      "        H' = w H^{t+1} + (1-w) H^t\n",
      "\n",
      "    If :math:`w=1`, the method is fully implicit. If :math:`w=0`,\n",
      "    it is a simple forward explicit method.\n",
      "\n",
      "    When we combine these equations, we have an equation that includes the\n",
      "    unknown :math:`H^{t+1}` and a bunch of terms that are known.\n",
      "    If :math:`w\\ne 0`, it is a nonlinear equation in :math:`H^{t+1}`,\n",
      "    and must be solved iteratively. We do this using a root-finding\n",
      "    method in the scipy.optimize library.\n",
      "\n",
      "    Examples\n",
      "    --------\n",
      "    >>> from landlab import RasterModelGrid\n",
      "    >>> rg = RasterModelGrid((4, 5), xy_spacing=10.0)\n",
      "    >>> z = rg.add_zeros(\"topographic__elevation\", at=\"node\")\n",
      "    >>> kw = KinwaveImplicitOverlandFlow(rg)\n",
      "    >>> round(kw.runoff_rate * 1.0e7, 2)\n",
      "    2.78\n",
      "    >>> kw.vel_coef  # default value\n",
      "    100.0\n",
      "    >>> rg.at_node[\"surface_water__depth\"][6:9]\n",
      "    array([0., 0., 0.])\n",
      "\n",
      "    References\n",
      "    ----------\n",
      "    **Required Software Citation(s) Specific to this Component**\n",
      "\n",
      "    None Listed\n",
      "\n",
      "    **Additional References**\n",
      "\n",
      "    None Listed\n",
      "\n",
      "    \n"
     ]
    }
   ],
   "source": [
    "print(KinwaveImplicitOverlandFlow.__doc__)"
   ]
  },
  {
   "cell_type": "code",
   "execution_count": 5,
   "id": "18ed773a-b10d-423a-8134-3e76b3ddcc0d",
   "metadata": {},
   "outputs": [],
   "source": [
    "# Process parameters\n",
    "n = 0.01  # roughness coefficient, (s/m^(1/3))\n",
    "dep_exp = 5.0 / 3.0  # depth exponent\n",
    "S = 0.01  # slope of plane\n",
    "R = 72.0  # runoff rate, mm/hr\n",
    "\n",
    "# Run-control parameters\n",
    "run_time = 240.0  # duration of run, (s)\n",
    "nrows = 5  # number of node rows\n",
    "ncols = 11  # number of node columns\n",
    "dx = 2.0  # node spacing, m\n",
    "dt = 10.0  # time-step size, s\n",
    "plot_every = 60.0  # plot interval, s\n",
    "\n",
    "# Derived parameters\n",
    "num_steps = int(run_time / dt)"
   ]
  },
  {
   "cell_type": "code",
   "execution_count": null,
   "id": "8038a0f7-51d8-4b43-b033-34e8e2e1b7fa",
   "metadata": {},
   "outputs": [],
   "source": []
  }
 ],
 "metadata": {
  "kernelspec": {
   "display_name": "Python 3 (ipykernel)",
   "language": "python",
   "name": "python3"
  },
  "language_info": {
   "codemirror_mode": {
    "name": "ipython",
    "version": 3
   },
   "file_extension": ".py",
   "mimetype": "text/x-python",
   "name": "python",
   "nbconvert_exporter": "python",
   "pygments_lexer": "ipython3",
   "version": "3.12.4"
  }
 },
 "nbformat": 4,
 "nbformat_minor": 5
}
