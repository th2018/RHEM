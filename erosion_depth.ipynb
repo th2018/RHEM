{
 "cells": [
  {
   "cell_type": "code",
   "execution_count": 1,
   "id": "c8ab4311",
   "metadata": {},
   "outputs": [],
   "source": [
    "# Mg/ha/year\n",
    "# step 1: 0.016~1.085Mg -> volume\n",
    "# step 2: volume to height\n",
    "# Bulk densities in undisturbed soils range from about 1.0 to 1.4 g/cm3, being higher for sands and with increased depth in the soil profile."
   ]
  },
  {
   "cell_type": "code",
   "execution_count": 16,
   "id": "38793fb3",
   "metadata": {},
   "outputs": [
    {
     "data": {
      "text/plain": [
       "1.1428571428571429e-05"
      ]
     },
     "execution_count": 16,
     "metadata": {},
     "output_type": "execute_result"
    }
   ],
   "source": [
    "# density: g/cm3\n",
    "# One hectare (ha) is equivalent to 10,000 square meters (m²). \n",
    "V=0.016*10**(-3)/1.4\n",
    "V"
   ]
  },
  {
   "cell_type": "code",
   "execution_count": 17,
   "id": "6ac92b8a",
   "metadata": {},
   "outputs": [
    {
     "data": {
      "text/plain": [
       "1.1428571428571428e-09"
      ]
     },
     "execution_count": 17,
     "metadata": {},
     "output_type": "execute_result"
    }
   ],
   "source": [
    "V/10**4 #meter"
   ]
  },
  {
   "cell_type": "code",
   "execution_count": 19,
   "id": "78152189",
   "metadata": {},
   "outputs": [
    {
     "data": {
      "text/plain": [
       "7.750000000000001e-08"
      ]
     },
     "execution_count": 19,
     "metadata": {},
     "output_type": "execute_result"
    }
   ],
   "source": [
    "V2=1.085*10**(-3)/1.4\n",
    "V2\n",
    "V2/10**4"
   ]
  },
  {
   "cell_type": "code",
   "execution_count": 22,
   "id": "a05a11a6",
   "metadata": {},
   "outputs": [
    {
     "data": {
      "text/plain": [
       "0.008688000000000001"
      ]
     },
     "execution_count": 22,
     "metadata": {},
     "output_type": "execute_result"
    }
   ],
   "source": [
    "# Assumes a soil bulk density of 1.25 Mg/m3.\n",
    "V= 1.086/1.25\n",
    "V #m3\n",
    "V/10**4 #m\n",
    "V/10**4*100 #cm"
   ]
  },
  {
   "cell_type": "code",
   "execution_count": 15,
   "id": "25db93cf",
   "metadata": {},
   "outputs": [
    {
     "data": {
      "text/plain": [
       "1.0"
      ]
     },
     "execution_count": 15,
     "metadata": {},
     "output_type": "execute_result"
    }
   ],
   "source": [
    "d=1 # mm/ka\n",
    "d/10**3 # m/ka \n",
    "d/10**3/10**3 #m/year\n",
    "d/10**3/10**3*10**4 # m/year in pierce\n",
    "d/10**3/10**3*10**4*100 # cm/year in pierce"
   ]
  },
  {
   "cell_type": "code",
   "execution_count": null,
   "id": "0c9579a4",
   "metadata": {},
   "outputs": [],
   "source": []
  }
 ],
 "metadata": {
  "kernelspec": {
   "display_name": "Python 3 (ipykernel)",
   "language": "python",
   "name": "python3"
  },
  "language_info": {
   "codemirror_mode": {
    "name": "ipython",
    "version": 3
   },
   "file_extension": ".py",
   "mimetype": "text/x-python",
   "name": "python",
   "nbconvert_exporter": "python",
   "pygments_lexer": "ipython3",
   "version": "3.11.4"
  }
 },
 "nbformat": 4,
 "nbformat_minor": 5
}
